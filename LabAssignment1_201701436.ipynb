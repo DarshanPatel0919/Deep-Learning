{
  "nbformat": 4,
  "nbformat_minor": 0,
  "metadata": {
    "colab": {
      "name": "LabAssignment1_201701436.ipynb",
      "provenance": [],
      "private_outputs": true,
      "authorship_tag": "ABX9TyNRszJq9rWhlUhEUP0+JBV1",
      "include_colab_link": true
    },
    "kernelspec": {
      "name": "python3",
      "display_name": "Python 3"
    }
  },
  "cells": [
    {
      "cell_type": "markdown",
      "metadata": {
        "id": "view-in-github",
        "colab_type": "text"
      },
      "source": [
        "<a href=\"https://colab.research.google.com/github/DarshanPatel0919/Deep-Learning/blob/master/LabAssignment1_201701436.ipynb\" target=\"_parent\"><img src=\"https://colab.research.google.com/assets/colab-badge.svg\" alt=\"Open In Colab\"/></a>"
      ]
    },
    {
      "cell_type": "markdown",
      "metadata": {
        "id": "KVNgnANlxhrt"
      },
      "source": [
        "Darshan Patel \n",
        "\n",
        "201701436\n",
        "\n",
        "Deep Learning\n",
        "\n",
        "Lab 1"
      ]
    },
    {
      "cell_type": "code",
      "metadata": {
        "id": "HNIWUMk9Ec3S"
      },
      "source": [
        "import tensorflow as tf\n",
        "import math as math"
      ],
      "execution_count": null,
      "outputs": []
    },
    {
      "cell_type": "markdown",
      "metadata": {
        "id": "kkSM3v_fx3gt"
      },
      "source": [
        "Series 1"
      ]
    },
    {
      "cell_type": "code",
      "metadata": {
        "id": "H1OcwisHFQ30"
      },
      "source": [
        "def f(n,x):\n",
        "  sum = tf.Variable(0, dtype=tf.float64) \n",
        "  one = tf.constant(1,dtype=tf.float64)\n",
        "  two = tf.constant(2,dtype=tf.float64)\n",
        "  for i in range(2,n):\n",
        "    sum = tf.math.add(sum,tf.math.divide(one + tf.dtypes.cast(tf.math.pow(-one,i),dtype=tf.float64), one + tf.dtypes.cast(tf.math.multiply(i,i),dtype=tf.float64))*tf.math.cos(tf.dtypes.cast(tf.math.multiply(i,x),dtype=tf.float64)))\n",
        "  sum = tf.math.divide(two,math.pi)*(tf.math.subtract(one,sum))\n",
        "  return sum\n",
        "\n",
        "for n in [20,50,100]:\n",
        "  print(\"(n,x) = ({} {})\".format(n,1),f(n,1))"
      ],
      "execution_count": null,
      "outputs": []
    },
    {
      "cell_type": "markdown",
      "metadata": {
        "id": "ZSUQlvQXyCHM"
      },
      "source": [
        "Series 2"
      ]
    },
    {
      "cell_type": "code",
      "metadata": {
        "id": "yd4n2v1FxUwd"
      },
      "source": [
        "def fact(n):\n",
        "  ans = tf.Variable(1,dtype = tf.float64)\n",
        "  for i in range(1,n+1):\n",
        "    ans = tf.dtypes.cast(tf.multiply(ans,i),dtype=tf.float64)\n",
        "  return ans\n",
        "def f(n,x):\n",
        "  sum = tf.Variable(0, dtype=tf.float64) \n",
        "  one = tf.constant(1,dtype=tf.float64)\n",
        "  for i in range(n):\n",
        "    p1 = tf.dtypes.cast(tf.math.pow(-one,i),dtype=tf.float64)  \n",
        "    p2 = tf.dtypes.cast(tf.math.pow(x,i+i),dtype=tf.float64)\n",
        "    num = tf.dtypes.cast(tf.math.multiply(p1,p2),dtype=tf.float64)\n",
        "    sum =sum + tf.math.divide(num, fact(i+i))\n",
        "  return sum\n",
        "  \n",
        "for n in [20,50,100]:\n",
        "  print(\"(n,x) = ({} {})\".format(n,0.3),f(n,0.3))"
      ],
      "execution_count": null,
      "outputs": []
    },
    {
      "cell_type": "markdown",
      "metadata": {
        "id": "0b7USG3tyKwh"
      },
      "source": [
        "Series 3"
      ]
    },
    {
      "cell_type": "code",
      "metadata": {
        "id": "ihuos5-yxYfA"
      },
      "source": [
        "def fact(n):\n",
        "  ans = tf.Variable(1,dtype = tf.float64)\n",
        "  for i in range(1,n+1):\n",
        "    ans = tf.dtypes.cast(tf.multiply(ans,i),dtype=tf.float64)\n",
        "  return ans\n",
        "def function3(n,x):\n",
        "  sum = tf.Variable(0.0, dtype=tf.float64) \n",
        "  for i in range(n):\n",
        "    p1 = tf.dtypes.cast(tf.math.pow(4,i),dtype=tf.float64)\n",
        "    p2 = tf.dtypes.cast(tf.math.pow(fact(i+i),2),dtype=tf.float64)\n",
        "    p12 = tf.math.multiply(p1,p2) \n",
        "    p3 = tf.dtypes.cast(tf.math.pow(x,i+i+1),dtype=tf.float64)\n",
        "    sum =tf.dtypes.cast(sum,tf.math.divide(factorial(i+i),p12*(i+i+1))*p3,dtype=tf.float64)\n",
        "  return sum\n",
        "\n",
        "for n in [20,50,100]:\n",
        "  print(\"(n,x) = ({} {})\".format(n,0.8),f(n,0.8))"
      ],
      "execution_count": null,
      "outputs": []
    }
  ]
}