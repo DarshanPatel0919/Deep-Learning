{
  "nbformat": 4,
  "nbformat_minor": 0,
  "metadata": {
    "colab": {
      "name": "LabAssignment7_201701436.ipynb",
      "provenance": [],
      "collapsed_sections": [
        "DREdxQzqsXmI",
        "TBY4XHYFOSEp",
        "DcP5pQfMhBWK",
        "zbUIrnN_LpEy",
        "vCziAq_JeyQz",
        "h96TJm-iuXc3"
      ],
      "authorship_tag": "ABX9TyMVUwbU2TFCxLDx6/kCENv4",
      "include_colab_link": true
    },
    "kernelspec": {
      "name": "python3",
      "display_name": "Python 3"
    }
  },
  "cells": [
    {
      "cell_type": "markdown",
      "metadata": {
        "id": "view-in-github",
        "colab_type": "text"
      },
      "source": [
        "<a href=\"https://colab.research.google.com/github/DarshanPatel0919/Deep-Learning/blob/master/LabAssignment7_201701436.ipynb\" target=\"_parent\"><img src=\"https://colab.research.google.com/assets/colab-badge.svg\" alt=\"Open In Colab\"/></a>"
      ]
    },
    {
      "cell_type": "markdown",
      "metadata": {
        "id": "DREdxQzqsXmI"
      },
      "source": [
        "#**Modules**"
      ]
    },
    {
      "cell_type": "code",
      "metadata": {
        "id": "-MOtKWepLZ60"
      },
      "source": [
        "import tensorflow as tf\n",
        "from tensorflow import keras\n",
        "\n",
        "from tensorflow.keras.layers.experimental.preprocessing import Normalization\n",
        "from tensorflow.keras.wrappers.scikit_learn import KerasRegressor\n",
        "from tensorflow.keras.models import Sequential\n",
        "from tensorflow.keras.layers import Layer, Dense, Flatten, Conv2D, MaxPooling2D, Activation, BatchNormalization, Dropout\n",
        "from tensorflow.keras.losses import sparse_categorical_crossentropy\n",
        "from tensorflow.keras import regularizers, activations\n",
        "from tensorflow.keras import initializers as init\n",
        "from tensorflow.keras import optimizers as opti\n",
        "from tensorflow.keras import backend as K\n",
        "\n",
        "\n",
        "import sklearn as sk\n",
        "from sklearn.compose import ColumnTransformer\n",
        "from sklearn.preprocessing import LabelEncoder, OneHotEncoder, StandardScaler\n",
        "from sklearn.model_selection import train_test_split, KFold, validation_curve \n",
        "from sklearn.metrics import make_scorer\n",
        "from sklearn.metrics import mean_squared_error as mse_fn\n",
        "\n",
        "\n",
        "import numpy as np\n",
        "import pandas as pd\n",
        "from time import time \n",
        "from matplotlib import pyplot as plt\n",
        "from google.colab import drive\n",
        "\n",
        "from copy import deepcopy\n",
        "\n",
        "import warnings\n",
        "warnings.filterwarnings(\"ignore\")"
      ],
      "execution_count": null,
      "outputs": []
    },
    {
      "cell_type": "markdown",
      "metadata": {
        "id": "TBY4XHYFOSEp"
      },
      "source": [
        "# Helper Functions"
      ]
    },
    {
      "cell_type": "code",
      "metadata": {
        "id": "npi-50iIOPSH"
      },
      "source": [
        "def myplot(hist, metric= 'mse', st= 0, en= -1, label= 'Train'):\n",
        "  if en == -1:\n",
        "    en = len(hist[metric])\n",
        "  \n",
        "  st = int(st)\n",
        "  en = int(en)\n",
        "\n",
        "  x = np.linspace(st+1,en,en-st)\n",
        "  acc = hist[metric][st:en]\n",
        "\n",
        "  plt.plot(x,acc,label= label)\n",
        "\n",
        "  plt.xlabel('Epochs')\n",
        "  plt.ylabel(metric)\n",
        "\n",
        "def plot_image(X ,T = []):\n",
        "  n = len(X)\n",
        "  if len(T) == 0:\n",
        "    T = ['']*n\n",
        "  plt.figure(figsize=(2*n + 1,2))\n",
        "  for i in range(n):\n",
        "    plt.subplot(1,n,i+1)\n",
        "    im = X[i].reshape(28,28)*255\n",
        "    im = np.clip(im,0,255)\n",
        "    plt.imshow(im,'gray')\n",
        "    plt.title(T[i])\n",
        "    plt.axis('off')"
      ],
      "execution_count": null,
      "outputs": []
    },
    {
      "cell_type": "markdown",
      "metadata": {
        "id": "DcP5pQfMhBWK"
      },
      "source": [
        "#**Data Pre-processing**"
      ]
    },
    {
      "cell_type": "code",
      "metadata": {
        "id": "PRcDB-0b-5tC"
      },
      "source": [
        "from google.colab import drive\n",
        "drive.mount('/content/drive')\n",
        "root = '/content/drive/My Drive/Deep Learning/mnist-fashion/'"
      ],
      "execution_count": null,
      "outputs": []
    },
    {
      "cell_type": "code",
      "metadata": {
        "id": "vC4NY64unKCC"
      },
      "source": [
        "train = pd.read_csv(root+'fashion-mnist_train.csv')\n",
        "test = pd.read_csv(root+'fashion-mnist_test.csv')\n",
        "\n",
        "X_TRAIN = np.array(train)[:,1:]\n",
        "X_TEST =  np.array(test)[:,1:]\n",
        "\n",
        "X_TRAIN.shape, X_TEST.shape"
      ],
      "execution_count": null,
      "outputs": []
    },
    {
      "cell_type": "code",
      "metadata": {
        "id": "FOB-Uf2-Fh6U"
      },
      "source": [
        "#adding noise of standard deviation 50\n",
        "#factor which is multiplied is standard_deviation \n",
        "\n",
        "#X_TRAIN has 60000 images each of dimension 784 (28X28) --> (60000,784)\n",
        "#X_TEST has 10000 images each of dimension 784 (28X28) --> (10000,784)\n",
        "\n",
        "X_TRAIN_NOISY = X_TRAIN + 10*np.random.normal(size=X_TRAIN.shape)\n",
        "X_TEST_NOISY = X_TEST + 10*np.random.normal(size=X_TEST.shape)\n",
        "\n",
        "#to make sure values are in (0,1) range\n",
        "\n",
        "X_TRAIN_NOISY = X_TRAIN_NOISY/255.0\n",
        "X_TEST_NOISY = X_TEST_NOISY/255.0\n",
        "\n",
        "X_TEST = X_TEST/255.0\n",
        "X_TRAIN = X_TRAIN/255.0\n",
        "\n",
        "X_TRAIN_NOISY = np.clip(X_TRAIN_NOISY,0,1)\n",
        "X_TEST_NOISY = np.clip(X_TEST_NOISY,0,1)\n",
        "\n",
        "images = [X_TRAIN_NOISY[10], X_TRAIN[10]]\n",
        "titles = ['noisy','true']\n",
        "plot_image(images,titles)"
      ],
      "execution_count": null,
      "outputs": []
    },
    {
      "cell_type": "markdown",
      "metadata": {
        "id": "zbUIrnN_LpEy"
      },
      "source": [
        "# **Build Function**\n",
        "\n",
        "* dim : dimension architechture as list **default** = [256,32,256,784]\n",
        "* ini : initial weights for each layers, **default** = 'glorot_uniform'"
      ]
    },
    {
      "cell_type": "code",
      "metadata": {
        "id": "PKqLT-DHKNIh"
      },
      "source": [
        "def build(dim= [256,64,256,784], ini= 'glorot_uniform'):\n",
        "  \n",
        "  model = Sequential()\n",
        "\n",
        "  ### Input Layer\n",
        "  model.add(keras.Input(shape=(784,)))\n",
        "\n",
        "  ### Hidden Layers\n",
        "  for i in range(len(dim)):\n",
        "      model.add(Dense(dim[i], 'relu', 1, ini))\n",
        "\n",
        "  model.compile(loss='mse', optimizer='adam', metrics=['mse'])\n",
        "  return model"
      ],
      "execution_count": null,
      "outputs": []
    },
    {
      "cell_type": "markdown",
      "metadata": {
        "id": "vCziAq_JeyQz"
      },
      "source": [
        "# **Train Function**"
      ]
    },
    {
      "cell_type": "code",
      "metadata": {
        "id": "ymTXP1mqe3VD"
      },
      "source": [
        "def train(model,epochs=50, batch_size=2000):\n",
        "  return model.fit(X_TRAIN_NOISY, X_TRAIN, epochs=epochs, batch_size=batch_size, verbose=0).history"
      ],
      "execution_count": null,
      "outputs": []
    },
    {
      "cell_type": "markdown",
      "metadata": {
        "id": "h96TJm-iuXc3"
      },
      "source": [
        "# Tying Weight Function\n",
        "\n"
      ]
    },
    {
      "cell_type": "code",
      "metadata": {
        "id": "GwdAaIB6uXc6"
      },
      "source": [
        "class DenseTied(Layer):\n",
        "    def __init__(self, units, activation=None, tied_to=None, **kwargs):\n",
        "        self.tied_to = tied_to\n",
        "        if 'input_shape' not in kwargs and 'input_dim' in kwargs:\n",
        "            kwargs['input_shape'] = (kwargs.pop('input_dim'),)\n",
        "        super().__init__(**kwargs)\n",
        "        self.units = units\n",
        "        self.activation = activations.get(activation)\n",
        "                \n",
        "    def build(self, input_shape):\n",
        "        assert len(input_shape) >= 2\n",
        "        input_dim = input_shape[-1]\n",
        "\n",
        "        self.kernel = K.transpose(self.tied_to.kernel)\n",
        "        self._non_trainable_weights.append(self.kernel)\n",
        "        \n",
        "        self.bias = self.add_weight(shape=(self.units,),\n",
        "                                    initializer=init.Zeros(),\n",
        "                                    name='bias')\n",
        "        \n",
        "        self.built = True\n",
        "\n",
        "    def compute_output_shape(self, input_shape):\n",
        "        assert input_shape and len(input_shape) >= 2\n",
        "        output_shape = list(input_shape)\n",
        "        output_shape[-1] = self.units\n",
        "        return tuple(output_shape)\n",
        "\n",
        "    def call(self, inputs):\n",
        "        output = K.dot(inputs, self.kernel)\n",
        "        output = K.bias_add(output, self.bias, data_format='channels_last')\n",
        "        output = self.activation(output)\n",
        "        return output\n",
        "\n",
        "def custom_tied_undercomplete(fn = 'relu', ini = 'glorot_uniform'):\n",
        "  model = Sequential()\n",
        "\n",
        "  x1 = Dense(256, fn, 1, ini,  input_dim=784)\n",
        "  model.add(x1)\n",
        "  x2 = Dense(64, fn, 1, ini)\n",
        "  model.add(x2)\n",
        "  x3 = DenseTied(256, fn, tied_to=x2)\n",
        "  model.add(x3)\n",
        "  x4 = Dense(784, fn, 1, ini)\n",
        "  model.add(x4)\n",
        "  \n",
        "  model.compile(loss='mse', optimizer='adam', metrics=['mse'])\n",
        "  return model\n",
        "\n",
        "def custom_tied_undercomplete2(fn = 'relu', ini = 'glorot_uniform'):\n",
        "  model = Sequential()\n",
        "\n",
        "  x1 = Dense(256, fn, 1, ini,  input_dim=784)\n",
        "  model.add(x1)\n",
        "  x2 = Dense(64, fn, 1, ini)\n",
        "  model.add(x2)\n",
        "  x3 = DenseTied(256, fn, tied_to=x2)\n",
        "  model.add(x3)\n",
        "  x4 = DenseTied(784, fn, tied_to=x1)\n",
        "  model.add(x4)\n",
        "  \n",
        "  model.compile(loss='mse', optimizer='adam', metrics=['mse'])\n",
        "  return model\n",
        "\n",
        "def custom_tied_overcomplete(fn = 'relu', ini = 'glorot_uniform'):\n",
        "  model = Sequential()\n",
        "\n",
        "  reg = regularizers.L2(0.0001)\n",
        "  x1 = Dense(1296, fn, 1, ini, kernel_regularizer= reg, bias_regularizer=reg, input_dim=784)\n",
        "  model.add(x1)\n",
        "  x2 = DenseTied(784, fn, tied_to=x1)\n",
        "  model.add(x2)\n",
        "  \n",
        "  model.compile(loss='mse', optimizer='adam', metrics=['mse'])\n",
        "  return model"
      ],
      "execution_count": null,
      "outputs": []
    },
    {
      "cell_type": "markdown",
      "metadata": {
        "id": "C8eRNIE9nll9"
      },
      "source": [
        "# **Undercomplete Autoencoder**\n"
      ]
    },
    {
      "cell_type": "markdown",
      "metadata": {
        "id": "qGr0huI-vaHh"
      },
      "source": [
        "##Architecture"
      ]
    },
    {
      "cell_type": "code",
      "metadata": {
        "id": "OuxkWoEenkug"
      },
      "source": [
        "#===================  5 Layers ===================#\n",
        "layers = [256,128,64,128,256,784]\n",
        "under5 = build(layers)\n",
        "history5 = train(under5)\n",
        "\n",
        "#===================  4 Layers ===================#\n",
        "layers = [256,32,32,256,784]\n",
        "under4 = build(layers)\n",
        "history4 = train(under4)\n",
        "\n",
        "#===================  3 Layers ===================#\n",
        "layers = [256,128,256,784]\n",
        "under3 = build(layers)\n",
        "st = time()\n",
        "history3 = train(under3)\n",
        "en = time()\n",
        "t_wo_tying = en - st"
      ],
      "execution_count": null,
      "outputs": []
    },
    {
      "cell_type": "code",
      "metadata": {
        "id": "P7S79C_zhIKK"
      },
      "source": [
        "myplot(history3,st=1,label='3 layer')\n",
        "myplot(history4,st=1,label='4 layer')\n",
        "myplot(history5,st=1,label='5 layer')\n",
        "plt.title('Undercomplete')\n",
        "plt.legend(loc='best')\n",
        "plt.show()"
      ],
      "execution_count": null,
      "outputs": []
    },
    {
      "cell_type": "markdown",
      "metadata": {
        "id": "JsyoJLatshxb"
      },
      "source": [
        "**Observation**\n",
        "* After trying saveral different architectures by changing nodes in each layers for each model, this result is represents the average case.\n",
        "* It appears that 3 layer and 5 layer models show better results because of the symmentry of weight matrices in their respective architectures, where as there is assymetry in 4 layer architecture.\n",
        "* Also 3 Layer architecture is showing the best results for this case. Implying that shrinking the bottleneck(latent layers) too much also affects the performance of the auto-encoder.\n",
        "* Hence 3 layer architecture is the just right fit for this case."
      ]
    },
    {
      "cell_type": "code",
      "metadata": {
        "id": "urZFgyyHzz2T"
      },
      "source": [
        "# Sample results\n",
        "i = np.random.randint(X_TEST.shape[0])\n",
        "\n",
        "y5 = under5.predict(np.reshape(X_TEST_NOISY[i],(1,784)))\n",
        "y4 = under4.predict(np.reshape(X_TEST_NOISY[i],(1,784)))\n",
        "y3 = under3.predict(np.reshape(X_TEST_NOISY[i],(1,784)))\n",
        "\n",
        "\n",
        "print('                             Undercomplete Autoencoder\\n')\n",
        "images = [X_TEST_NOISY[i], X_TEST[i], y3,y4, y5]\n",
        "titles = ['noisy','true','Layer-3','Layer-4','Layer-5']\n",
        "plot_image(images,titles)\n",
        "plt.show()"
      ],
      "execution_count": null,
      "outputs": []
    },
    {
      "cell_type": "markdown",
      "metadata": {
        "id": "qJ1-6Ytutzfq"
      },
      "source": [
        "**Ovservaton**\n",
        "* Here, most of the noise is removed from images. But the resulting images are a bit distorted.\n",
        "* We can see that image reconstucted by 3-Layer model is very close to the true image.\n",
        "* On the other hand image constructed by the 4-Layer is worst here."
      ]
    },
    {
      "cell_type": "markdown",
      "metadata": {
        "id": "ZH4uZ3lNPyIk"
      },
      "source": [
        "##Varying Initial Weights"
      ]
    },
    {
      "cell_type": "code",
      "metadata": {
        "id": "M5asBkGVP5rS"
      },
      "source": [
        "tf.random.set_seed(22)\n",
        "types = [init.GlorotUniform(), init.GlorotNormal(), init.HeNormal()]\n",
        "names = ['GlorotUniform','GlorotNormal','HeNormal']"
      ],
      "execution_count": null,
      "outputs": []
    },
    {
      "cell_type": "code",
      "metadata": {
        "id": "KD3pWFluQKWW"
      },
      "source": [
        "Model, Hist, t= {},{},{}\n",
        "\n",
        "for i in range(len(types)):\n",
        "  Model[i] = build(layers, ini = types[i])\n",
        "  Hist[i] = train(Model[i])"
      ],
      "execution_count": null,
      "outputs": []
    },
    {
      "cell_type": "code",
      "metadata": {
        "id": "dJBbQqnqpFCN",
        "outputId": "91ed9be4-cd47-4837-db2c-a98d96e5cdd6",
        "colab": {
          "base_uri": "https://localhost:8080/",
          "height": 279
        }
      },
      "source": [
        "for i in range(len(types)):\n",
        "  myplot(Hist[i], st=3, label=names[i])\n",
        "\n",
        "plt.legend(loc='best')\n",
        "plt.show()"
      ],
      "execution_count": 166,
      "outputs": [
        {
          "output_type": "display_data",
          "data": {
            "image/png": "[encoded data removed]",
            "text/plain": [
              "<Figure size 432x288 with 1 Axes>"
            ]
          },
          "metadata": {
            "tags": [],
            "needs_background": "light"
          }
        }
      ]
    },
    {
      "cell_type": "markdown",
      "metadata": {
        "id": "0FkKbiN9ufb5"
      },
      "source": [
        "**Observation**\n",
        "* Looking at the mse vs epochs graph, we conclude that GlorotUniform and GlorotNormal are better weight initializer for this particular case\n",
        "* Also, after trying some different seed values i found that 22 works very good.\n",
        "* Note that initializing with all zeros and all ones results in no training at all, since the range of the data is very small, bias = 1 results in major effect during training."
      ]
    },
    {
      "cell_type": "code",
      "metadata": {
        "id": "247xPFX0cd7i"
      },
      "source": [
        "# Sample results\n",
        "i = np.random.randint(X_TEST.shape[0])\n",
        "y = [0]*len(types)\n",
        "\n",
        "for j in range(len(types)):\n",
        "  y[j] = Model[j].predict(np.reshape(X_TEST_NOISY[i],(1,784)))\n",
        "\n",
        "print('                             Undercomplete Autoencoder\\n')\n",
        "images = [X_TEST_NOISY[i], X_TEST[i]] + y\n",
        "titles = ['noisy','true'] + names\n",
        "plot_image(images,titles)\n",
        "plt.show()"
      ],
      "execution_count": null,
      "outputs": []
    },
    {
      "cell_type": "markdown",
      "metadata": {
        "id": "rvRLolb62RkA"
      },
      "source": [
        "##Tying Weights"
      ]
    },
    {
      "cell_type": "code",
      "metadata": {
        "id": "DbvXvkojtTi5"
      },
      "source": [
        "model = custom_tied_undercomplete()\n",
        "st=time()\n",
        "hist = train(model)\n",
        "en=time()\n",
        "t_tying = en - st"
      ],
      "execution_count": 187,
      "outputs": []
    },
    {
      "cell_type": "code",
      "metadata": {
        "id": "NL7zYWkPush-",
        "outputId": "dc0d54ad-c36c-4f44-d78d-c00792d3a441",
        "colab": {
          "base_uri": "https://localhost:8080/",
          "height": 313
        }
      },
      "source": [
        "myplot(hist,label='Tied')\n",
        "myplot(Hist[0],label='Without Tied')\n",
        "plt.legend(loc='best')\n",
        "plt.grid()\n",
        "plt.show()\n",
        "\n",
        "print('Time taken without tying =',t_wo_tying)\n",
        "print('Time taken with tying =',t_tying)"
      ],
      "execution_count": 188,
      "outputs": [
        {
          "output_type": "display_data",
          "data": {
            "image/png": "[encoded data removed]",
            "text/plain": [
              "<Figure size 432x288 with 1 Axes>"
            ]
          },
          "metadata": {
            "tags": [],
            "needs_background": "light"
          }
        },
        {
          "output_type": "stream",
          "text": [
            "Time taken without tying = 139.54977345466614\n",
            "Time taken with tying = 127.98547887802124\n"
          ],
          "name": "stdout"
        }
      ]
    },
    {
      "cell_type": "markdown",
      "metadata": {
        "id": "2b8FYNx65hCT"
      },
      "source": [
        "* This is the result of tying only two layers of the architecture.\n",
        "* We can see there is not significant, amount of increase in the time speedup, but as the tying layers increase speedup increases as well\n",
        "* There is a trade off though, as tying layers increase the performace is compromised because of lesser training. (Shown Below)  "
      ]
    },
    {
      "cell_type": "code",
      "metadata": {
        "id": "aVScT6506JNW"
      },
      "source": [
        "model = custom_tied_undercomplete2()\n",
        "st=time()\n",
        "hist = train(model)\n",
        "en=time()\n",
        "t_tying = en - st"
      ],
      "execution_count": 200,
      "outputs": []
    },
    {
      "cell_type": "code",
      "metadata": {
        "id": "lJBuLcsD6JNc",
        "outputId": "ec7d6e6c-4333-4088-dd50-113b8ea3f0f4",
        "colab": {
          "base_uri": "https://localhost:8080/",
          "height": 296
        }
      },
      "source": [
        "myplot(hist,label='Tied')\n",
        "myplot(Hist[0],label='Without Tied')\n",
        "plt.legend(loc='best')\n",
        "plt.grid()\n",
        "plt.show()\n",
        "print('Time taken with tying =',t_tying)"
      ],
      "execution_count": 203,
      "outputs": [
        {
          "output_type": "display_data",
          "data": {
            "image/png": "[encoded data removed]",
            "text/plain": [
              "<Figure size 432x288 with 1 Axes>"
            ]
          },
          "metadata": {
            "tags": [],
            "needs_background": "light"
          }
        },
        {
          "output_type": "stream",
          "text": [
            "Time taken with tying = 109.5794529914856\n"
          ],
          "name": "stdout"
        }
      ]
    },
    {
      "cell_type": "markdown",
      "metadata": {
        "id": "5n6IF8NC6i96"
      },
      "source": [
        "* The speedup is better, but the performance declines because of less information being learned because of the tied layers."
      ]
    },
    {
      "cell_type": "markdown",
      "metadata": {
        "id": "AN3c1Gl13ccC"
      },
      "source": [
        "# **Overcomplete Autoencoder**\n"
      ]
    },
    {
      "cell_type": "markdown",
      "metadata": {
        "id": "U9tSB4lv3ccP"
      },
      "source": [
        "##Architecture"
      ]
    },
    {
      "cell_type": "code",
      "metadata": {
        "id": "HwURDZPv3ccR"
      },
      "source": [
        "epoch = 40\n",
        "batch = 6000 \n",
        "\n",
        "#===================  5 Layers ===================#\n",
        "layers = [1024,1296,1024,784]\n",
        "under5 = build(layers)\n",
        "history5 = train(under5,epoch,batch)\n",
        "\n",
        "#===================  4 Layers ===================#\n",
        "layers = [1024,1296,784]\n",
        "under4 = build(layers)\n",
        "history4 = train(under4,epoch,batch)\n",
        "\n",
        "#===================  3 Layers ===================#\n",
        "layers = [1296,784]\n",
        "under3 = build(layers)\n",
        "st = time()\n",
        "history3 = train(under3,epoch,batch)\n",
        "en = time()\n",
        "t_wo_tying = en - st"
      ],
      "execution_count": 191,
      "outputs": []
    },
    {
      "cell_type": "code",
      "metadata": {
        "id": "WUVmfF1K3ccW",
        "outputId": "4b8c8f03-d91f-425d-d8f7-6c29d9af55a1",
        "colab": {
          "base_uri": "https://localhost:8080/",
          "height": 295
        }
      },
      "source": [
        "myplot(history3,st=1,label='3 layer')\n",
        "myplot(history4,st=1,label='4 layer')\n",
        "myplot(history5,st=1,label='5 layer')\n",
        "plt.title('Overcomplete')\n",
        "plt.legend(loc='best')\n",
        "plt.grid()\n",
        "plt.show()"
      ],
      "execution_count": 194,
      "outputs": [
        {
          "output_type": "display_data",
          "data": {
            "image/png": "[encoded data removed]",
            "text/plain": [
              "<Figure size 432x288 with 1 Axes>"
            ]
          },
          "metadata": {
            "tags": [],
            "needs_background": "light"
          }
        }
      ]
    },
    {
      "cell_type": "markdown",
      "metadata": {
        "id": "HzrkB2Dh3ccZ"
      },
      "source": [
        "**Observation**\n",
        "* Comparing to undercomplete autoencoder, this results are better acknowledging the fact that epoch = 40 are even lesser than training before.\n",
        "* But the training curve is unstable which might be stabilized using regulariation\n",
        "* Also the curve of 3 layer autoencoder is smoothest among all models, hence it is the best model."
      ]
    },
    {
      "cell_type": "code",
      "metadata": {
        "id": "4SR9_HT-3cca",
        "outputId": "8bbcc41c-eb08-4c40-8fb9-7117f36a833d",
        "colab": {
          "base_uri": "https://localhost:8080/",
          "height": 187
        }
      },
      "source": [
        "# Sample results\n",
        "i = np.random.randint(X_TEST.shape[0])\n",
        "\n",
        "y5 = under5.predict(np.reshape(X_TEST_NOISY[i],(1,784)))\n",
        "y4 = under4.predict(np.reshape(X_TEST_NOISY[i],(1,784)))\n",
        "y3 = under3.predict(np.reshape(X_TEST_NOISY[i],(1,784)))\n",
        "\n",
        "\n",
        "print('                             Undercomplete Autoencoder\\n')\n",
        "images = [X_TEST_NOISY[i], X_TEST[i], y3,y4, y5]\n",
        "titles = ['noisy','true','Layer-3','Layer-4','Layer-5']\n",
        "plot_image(images,titles)\n",
        "plt.show()"
      ],
      "execution_count": 198,
      "outputs": [
        {
          "output_type": "stream",
          "text": [
            "                             Undercomplete Autoencoder\n",
            "\n"
          ],
          "name": "stdout"
        },
        {
          "output_type": "display_data",
          "data": {
            "image/png": "[encoded data removed]",
            "text/plain": [
              "<Figure size 792x144 with 5 Axes>"
            ]
          },
          "metadata": {
            "tags": [],
            "needs_background": "light"
          }
        }
      ]
    },
    {
      "cell_type": "markdown",
      "metadata": {
        "id": "MnT998aT3ccd"
      },
      "source": [
        "**Ovservaton**\n",
        "* Here, most of the noise is removed from images. But the resulting images are a bit distorted.\n",
        "* We can see that image reconstucted by 3-Layer model is very close to the true image."
      ]
    },
    {
      "cell_type": "markdown",
      "metadata": {
        "id": "1OG0O5YJ3ccd"
      },
      "source": [
        "##Varying Initial Weights"
      ]
    },
    {
      "cell_type": "code",
      "metadata": {
        "id": "dxF7mYoI3cce"
      },
      "source": [
        "tf.random.set_seed(22)\n",
        "types = [init.GlorotUniform(), init.GlorotNormal(), init.HeNormal()]\n",
        "names = ['GlorotUniform','GlorotNormal','HeNormal']"
      ],
      "execution_count": 205,
      "outputs": []
    },
    {
      "cell_type": "code",
      "metadata": {
        "id": "oObAtXzi3ccg"
      },
      "source": [
        "Model, Hist, t= {},{},{}\n",
        "\n",
        "for i in range(len(types)):\n",
        "  Model[i] = build(layers, ini = types[i])\n",
        "  Hist[i] = train(Model[i])"
      ],
      "execution_count": 206,
      "outputs": []
    },
    {
      "cell_type": "code",
      "metadata": {
        "id": "irJMTg1z3cci",
        "outputId": "e9a9b2f7-259c-47b2-924d-9099ecc27e7c",
        "colab": {
          "base_uri": "https://localhost:8080/",
          "height": 282
        }
      },
      "source": [
        "for i in range(len(types)):\n",
        "  myplot(Hist[i], st=2, label=names[i])\n",
        "\n",
        "plt.legend(loc='best')\n",
        "plt.show()"
      ],
      "execution_count": 207,
      "outputs": [
        {
          "output_type": "display_data",
          "data": {
            "image/png": "[encoded data removed]",
            "text/plain": [
              "<Figure size 432x288 with 1 Axes>"
            ]
          },
          "metadata": {
            "tags": [],
            "needs_background": "light"
          }
        }
      ]
    },
    {
      "cell_type": "markdown",
      "metadata": {
        "id": "O-Hvmlye3ccm"
      },
      "source": [
        "**Observation**\n",
        "* The results are similar to undercomplete auto-encoder"
      ]
    },
    {
      "cell_type": "code",
      "metadata": {
        "id": "3uEq7tuL3ccn",
        "outputId": "43d3ce6e-16d9-4fa3-8e3f-534705bb4d7b",
        "colab": {
          "base_uri": "https://localhost:8080/",
          "height": 187
        }
      },
      "source": [
        "# Sample results\n",
        "i = np.random.randint(X_TEST.shape[0])\n",
        "y = [0]*len(types)\n",
        "\n",
        "for j in range(len(types)):\n",
        "  y[j] = Model[j].predict(np.reshape(X_TEST_NOISY[i],(1,784)))\n",
        "\n",
        "print('                             Undercomplete Autoencoder\\n')\n",
        "images = [X_TEST_NOISY[i], X_TEST[i]] + y\n",
        "titles = ['noisy','true'] + names\n",
        "plot_image(images,titles)\n",
        "plt.show()"
      ],
      "execution_count": 209,
      "outputs": [
        {
          "output_type": "stream",
          "text": [
            "                             Undercomplete Autoencoder\n",
            "\n"
          ],
          "name": "stdout"
        },
        {
          "output_type": "display_data",
          "data": {
            "image/png": "[encoded data removed]",
            "text/plain": [
              "<Figure size 792x144 with 5 Axes>"
            ]
          },
          "metadata": {
            "tags": [],
            "needs_background": "light"
          }
        }
      ]
    },
    {
      "cell_type": "markdown",
      "metadata": {
        "id": "Qr1ofMOG3ccp"
      },
      "source": [
        "##Tying Weights"
      ]
    },
    {
      "cell_type": "code",
      "metadata": {
        "id": "p5eZ5o2t3ccq"
      },
      "source": [
        "model = custom_tied_overcomplete()\n",
        "st=time()\n",
        "hist = train(model)\n",
        "en=time()\n",
        "t_tying = en - st"
      ],
      "execution_count": 210,
      "outputs": []
    },
    {
      "cell_type": "code",
      "metadata": {
        "id": "deqrnK973cct",
        "outputId": "c7b6dd8e-84e3-47dc-e360-26a2482ce347",
        "colab": {
          "base_uri": "https://localhost:8080/",
          "height": 279
        }
      },
      "source": [
        "myplot(hist,label='Tied')\n",
        "myplot(Hist[0],label='Without Tied')\n",
        "plt.legend(loc='best')\n",
        "plt.grid()\n",
        "plt.show()"
      ],
      "execution_count": 212,
      "outputs": [
        {
          "output_type": "display_data",
          "data": {
            "image/png": "[encoded data removed]",
            "text/plain": [
              "<Figure size 432x288 with 1 Axes>"
            ]
          },
          "metadata": {
            "tags": [],
            "needs_background": "light"
          }
        }
      ]
    },
    {
      "cell_type": "code",
      "metadata": {
        "id": "Y-jtZwDDLcgQ",
        "outputId": "df72b641-f397-46e8-d839-d9a1926a509f",
        "colab": {
          "base_uri": "https://localhost:8080/"
        }
      },
      "source": [
        "t_wo_tying"
      ],
      "execution_count": 214,
      "outputs": [
        {
          "output_type": "execute_result",
          "data": {
            "text/plain": [
              "406.13338589668274"
            ]
          },
          "metadata": {
            "tags": []
          },
          "execution_count": 214
        }
      ]
    },
    {
      "cell_type": "markdown",
      "metadata": {
        "id": "lzlH_9bwK0Vr"
      },
      "source": [
        "* The performance results are way better than undercomplete tying auto encoders. Convergence of tying is also very faster than the case of undercomplete autoencoder. \n",
        "* The time taken is more because of larger layers."
      ]
    }
  ]
}